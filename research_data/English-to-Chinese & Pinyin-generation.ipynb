{
 "cells": [
  {
   "cell_type": "code",
   "execution_count": 2,
   "metadata": {
    "colab": {
     "base_uri": "https://localhost:8080/"
    },
    "id": "2QQLtL9A_8b2",
    "outputId": "89ae26e8-ee3e-4262-fb72-8a3b95d82957"
   },
   "outputs": [
    {
     "name": "stdout",
     "output_type": "stream",
     "text": [
      "Collecting pypinyin\n",
      "  Downloading pypinyin-0.51.0-py2.py3-none-any.whl.metadata (12 kB)\n",
      "Downloading pypinyin-0.51.0-py2.py3-none-any.whl (1.4 MB)\n",
      "   ---------------------------------------- 0.0/1.4 MB ? eta -:--:--\n",
      "   -- ------------------------------------- 0.1/1.4 MB 5.8 MB/s eta 0:00:01\n",
      "   -- ------------------------------------- 0.1/1.4 MB 5.8 MB/s eta 0:00:01\n",
      "   -- ------------------------------------- 0.1/1.4 MB 5.8 MB/s eta 0:00:01\n",
      "   ------ --------------------------------- 0.2/1.4 MB 1.4 MB/s eta 0:00:01\n",
      "   ------ --------------------------------- 0.2/1.4 MB 1.4 MB/s eta 0:00:01\n",
      "   ------ --------------------------------- 0.2/1.4 MB 1.4 MB/s eta 0:00:01\n",
      "   ------- -------------------------------- 0.3/1.4 MB 785.2 kB/s eta 0:00:02\n",
      "   ---------- ----------------------------- 0.3/1.4 MB 1.0 MB/s eta 0:00:01\n",
      "   ---------- ----------------------------- 0.3/1.4 MB 1.0 MB/s eta 0:00:01\n",
      "   ---------- ----------------------------- 0.3/1.4 MB 1.0 MB/s eta 0:00:01\n",
      "   ----------------- ---------------------- 0.6/1.4 MB 1.2 MB/s eta 0:00:01\n",
      "   ----------------- ---------------------- 0.6/1.4 MB 1.2 MB/s eta 0:00:01\n",
      "   ----------------- ---------------------- 0.6/1.4 MB 1.2 MB/s eta 0:00:01\n",
      "   ----------------------- ---------------- 0.8/1.4 MB 1.2 MB/s eta 0:00:01\n",
      "   --------------------------- ------------ 0.9/1.4 MB 1.4 MB/s eta 0:00:01\n",
      "   --------------------------- ------------ 0.9/1.4 MB 1.4 MB/s eta 0:00:01\n",
      "   ------------------------------ --------- 1.1/1.4 MB 1.3 MB/s eta 0:00:01\n",
      "   ---------------------------------------  1.4/1.4 MB 1.7 MB/s eta 0:00:01\n",
      "   ---------------------------------------- 1.4/1.4 MB 1.6 MB/s eta 0:00:00\n",
      "Installing collected packages: pypinyin\n",
      "Successfully installed pypinyin-0.51.0\n",
      "Collecting googletrans==4.0.0-rc1\n",
      "  Downloading googletrans-4.0.0rc1.tar.gz (20 kB)\n",
      "  Preparing metadata (setup.py): started\n",
      "  Preparing metadata (setup.py): finished with status 'done'\n",
      "Collecting httpx==0.13.3 (from googletrans==4.0.0-rc1)\n",
      "  Downloading httpx-0.13.3-py3-none-any.whl.metadata (25 kB)\n",
      "Requirement already satisfied: certifi in c:\\users\\coh3kor\\appdata\\local\\anaconda3\\lib\\site-packages (from httpx==0.13.3->googletrans==4.0.0-rc1) (2024.2.2)\n",
      "Collecting hstspreload (from httpx==0.13.3->googletrans==4.0.0-rc1)\n",
      "  Downloading hstspreload-2024.4.1-py3-none-any.whl.metadata (2.1 kB)\n",
      "Requirement already satisfied: sniffio in c:\\users\\coh3kor\\appdata\\local\\anaconda3\\lib\\site-packages (from httpx==0.13.3->googletrans==4.0.0-rc1) (1.3.0)\n",
      "Collecting chardet==3.* (from httpx==0.13.3->googletrans==4.0.0-rc1)\n",
      "  Downloading chardet-3.0.4-py2.py3-none-any.whl.metadata (3.2 kB)\n",
      "Collecting idna==2.* (from httpx==0.13.3->googletrans==4.0.0-rc1)\n",
      "  Downloading idna-2.10-py2.py3-none-any.whl.metadata (9.1 kB)\n",
      "Collecting rfc3986<2,>=1.3 (from httpx==0.13.3->googletrans==4.0.0-rc1)\n",
      "  Downloading rfc3986-1.5.0-py2.py3-none-any.whl.metadata (6.5 kB)\n",
      "Collecting httpcore==0.9.* (from httpx==0.13.3->googletrans==4.0.0-rc1)\n",
      "  Downloading httpcore-0.9.1-py3-none-any.whl.metadata (4.6 kB)\n",
      "Collecting h11<0.10,>=0.8 (from httpcore==0.9.*->httpx==0.13.3->googletrans==4.0.0-rc1)\n",
      "  Downloading h11-0.9.0-py2.py3-none-any.whl.metadata (8.1 kB)\n",
      "Collecting h2==3.* (from httpcore==0.9.*->httpx==0.13.3->googletrans==4.0.0-rc1)\n",
      "  Downloading h2-3.2.0-py2.py3-none-any.whl.metadata (32 kB)\n",
      "Collecting hyperframe<6,>=5.2.0 (from h2==3.*->httpcore==0.9.*->httpx==0.13.3->googletrans==4.0.0-rc1)\n",
      "  Downloading hyperframe-5.2.0-py2.py3-none-any.whl.metadata (7.2 kB)\n",
      "Collecting hpack<4,>=3.0 (from h2==3.*->httpcore==0.9.*->httpx==0.13.3->googletrans==4.0.0-rc1)\n",
      "  Downloading hpack-3.0.0-py2.py3-none-any.whl.metadata (7.0 kB)\n",
      "Downloading httpx-0.13.3-py3-none-any.whl (55 kB)\n",
      "   ---------------------------------------- 0.0/55.1 kB ? eta -:--:--\n",
      "   ---------------------------------------- 55.1/55.1 kB 2.8 MB/s eta 0:00:00\n",
      "Downloading chardet-3.0.4-py2.py3-none-any.whl (133 kB)\n",
      "   ---------------------------------------- 0.0/133.4 kB ? eta -:--:--\n",
      "   --------------------------------- ------ 112.6/133.4 kB ? eta -:--:--\n",
      "   --------------------------------- ------ 112.6/133.4 kB ? eta -:--:--\n",
      "   --------------------------------- ------ 112.6/133.4 kB ? eta -:--:--\n",
      "   -------------------------------------- 133.4/133.4 kB 715.8 kB/s eta 0:00:00\n",
      "Downloading httpcore-0.9.1-py3-none-any.whl (42 kB)\n",
      "   ---------------------------------------- 0.0/42.6 kB ? eta -:--:--\n",
      "   ---------------------------------------- 42.6/42.6 kB 2.0 MB/s eta 0:00:00\n",
      "Downloading idna-2.10-py2.py3-none-any.whl (58 kB)\n",
      "   ---------------------------------------- 0.0/58.8 kB ? eta -:--:--\n",
      "   ---------------------------------------- 58.8/58.8 kB 1.6 MB/s eta 0:00:00\n",
      "Downloading h2-3.2.0-py2.py3-none-any.whl (65 kB)\n",
      "   ---------------------------------------- 0.0/65.0 kB ? eta -:--:--\n",
      "   ---------------------------------------- 65.0/65.0 kB 3.4 MB/s eta 0:00:00\n",
      "Downloading rfc3986-1.5.0-py2.py3-none-any.whl (31 kB)\n",
      "Downloading hstspreload-2024.4.1-py3-none-any.whl (1.1 MB)\n",
      "   ---------------------------------------- 0.0/1.1 MB ? eta -:--:--\n",
      "   ------- -------------------------------- 0.2/1.1 MB 13.0 MB/s eta 0:00:01\n",
      "   ------- -------------------------------- 0.2/1.1 MB 13.0 MB/s eta 0:00:01\n",
      "   ------- -------------------------------- 0.2/1.1 MB 13.0 MB/s eta 0:00:01\n",
      "   ------------------- -------------------- 0.5/1.1 MB 3.1 MB/s eta 0:00:01\n",
      "   ------------------- -------------------- 0.5/1.1 MB 3.1 MB/s eta 0:00:01\n",
      "   ------------------- -------------------- 0.5/1.1 MB 3.1 MB/s eta 0:00:01\n",
      "   ---------------------- ----------------- 0.6/1.1 MB 2.0 MB/s eta 0:00:01\n",
      "   ----------------------------------- ---- 1.0/1.1 MB 2.9 MB/s eta 0:00:01\n",
      "   ----------------------------------- ---- 1.0/1.1 MB 2.9 MB/s eta 0:00:01\n",
      "   ----------------------------------- ---- 1.0/1.1 MB 2.9 MB/s eta 0:00:01\n",
      "   ---------------------------------------- 1.1/1.1 MB 2.2 MB/s eta 0:00:00\n",
      "Downloading h11-0.9.0-py2.py3-none-any.whl (53 kB)\n",
      "   ---------------------------------------- 0.0/53.6 kB ? eta -:--:--\n",
      "   ---------------------------------------- 53.6/53.6 kB 2.9 MB/s eta 0:00:00\n",
      "Downloading hpack-3.0.0-py2.py3-none-any.whl (38 kB)\n",
      "Downloading hyperframe-5.2.0-py2.py3-none-any.whl (12 kB)\n",
      "Building wheels for collected packages: googletrans\n",
      "  Building wheel for googletrans (setup.py): started\n",
      "  Building wheel for googletrans (setup.py): finished with status 'done'\n",
      "  Created wheel for googletrans: filename=googletrans-4.0.0rc1-py3-none-any.whl size=17458 sha256=1fd7802c8b17b84b1600b3c0068648ad9aeb2a791d9c42614206fd833768c6d8\n",
      "  Stored in directory: c:\\users\\coh3kor\\appdata\\local\\pip\\cache\\wheels\\39\\17\\6f\\66a045ea3d168826074691b4b787b8f324d3f646d755443fda\n",
      "Successfully built googletrans\n",
      "Installing collected packages: rfc3986, hyperframe, hpack, h11, chardet, idna, hstspreload, h2, httpcore, httpx, googletrans\n",
      "  Attempting uninstall: h11\n",
      "    Found existing installation: h11 0.14.0\n",
      "    Uninstalling h11-0.14.0:\n",
      "      Successfully uninstalled h11-0.14.0\n",
      "  Attempting uninstall: chardet\n",
      "    Found existing installation: chardet 4.0.0\n",
      "    Uninstalling chardet-4.0.0:\n",
      "      Successfully uninstalled chardet-4.0.0\n",
      "  Attempting uninstall: idna\n",
      "    Found existing installation: idna 3.4\n",
      "    Uninstalling idna-3.4:\n",
      "      Successfully uninstalled idna-3.4\n",
      "  Attempting uninstall: httpcore\n",
      "    Found existing installation: httpcore 1.0.2\n",
      "    Uninstalling httpcore-1.0.2:\n",
      "      Successfully uninstalled httpcore-1.0.2\n",
      "  Attempting uninstall: httpx\n",
      "    Found existing installation: httpx 0.26.0\n",
      "    Uninstalling httpx-0.26.0:\n",
      "      Successfully uninstalled httpx-0.26.0\n",
      "Successfully installed chardet-3.0.4 googletrans-4.0.0rc1 h11-0.9.0 h2-3.2.0 hpack-3.0.0 hstspreload-2024.4.1 httpcore-0.9.1 httpx-0.13.3 hyperframe-5.2.0 idna-2.10 rfc3986-1.5.0\n"
     ]
    }
   ],
   "source": [
    "!pip install pypinyin\n",
    "!pip install googletrans==4.0.0-rc1\n"
   ]
  },
  {
   "cell_type": "code",
   "execution_count": 9,
   "metadata": {
    "colab": {
     "base_uri": "https://localhost:8080/"
    },
    "id": "jZ6hZj-_BaMJ",
    "outputId": "847a0770-70a2-448e-e7e1-54867ae812b8"
   },
   "outputs": [
    {
     "name": "stdout",
     "output_type": "stream",
     "text": [
      "你好，我是国王。\n"
     ]
    }
   ],
   "source": [
    "from googletrans import Translator\n",
    "\n",
    "def translate_to_chinese(english_text):\n",
    "    translator = Translator()\n",
    "    translated_text = translator.translate(english_text, src='en', dest='zh-cn').text\n",
    "    return translated_text\n",
    "\n",
    "# Test the function\n",
    "english_text = \"Hello, I am king.\"\n",
    "chinese_text = translate_to_chinese(english_text)\n",
    "print(chinese_text)  # Output: '你好，你好吗？'\n"
   ]
  },
  {
   "cell_type": "code",
   "execution_count": 10,
   "metadata": {
    "colab": {
     "base_uri": "https://localhost:8080/"
    },
    "id": "6jyqbzn4_65W",
    "outputId": "9aef4b2d-0235-412c-9866-42477e9e3a41"
   },
   "outputs": [
    {
     "name": "stdout",
     "output_type": "stream",
     "text": [
      "nǐ hǎo ， wǒ shì guó wáng 。\n"
     ]
    }
   ],
   "source": [
    "from pypinyin import pinyin, Style\n",
    "\n",
    "def convert_to_pinyin(chinese_text):\n",
    "    pinyin_text = pinyin(chinese_text)\n",
    "    return ' '.join([item[0] for item in pinyin_text])\n",
    "\n",
    "# Test the function\n",
    "pinyin_text = convert_to_pinyin(chinese_text)\n",
    "print(pinyin_text)  # Output: 'hē lōu hǎo ār yù?'\n"
   ]
  },
  {
   "cell_type": "code",
   "execution_count": null,
   "metadata": {
    "id": "21Rp7ZZuBZyL"
   },
   "outputs": [],
   "source": []
  }
 ],
 "metadata": {
  "colab": {
   "provenance": []
  },
  "kernelspec": {
   "display_name": "Python 3 (ipykernel)",
   "language": "python",
   "name": "python3"
  },
  "language_info": {
   "codemirror_mode": {
    "name": "ipython",
    "version": 3
   },
   "file_extension": ".py",
   "mimetype": "text/x-python",
   "name": "python",
   "nbconvert_exporter": "python",
   "pygments_lexer": "ipython3",
   "version": "3.11.7"
  }
 },
 "nbformat": 4,
 "nbformat_minor": 1
}
